{
 "cells": [
  {
   "cell_type": "code",
   "execution_count": 4,
   "metadata": {},
   "outputs": [],
   "source": [
    "import glfw"
   ]
  },
  {
   "cell_type": "code",
   "execution_count": 6,
   "metadata": {},
   "outputs": [],
   "source": [
    "from OpenGL.GL import *"
   ]
  },
  {
   "cell_type": "code",
   "execution_count": 11,
   "metadata": {},
   "outputs": [],
   "source": [
    "def main():\n",
    "    #init glfw\n",
    "    if not glfw.init():\n",
    "        return\n",
    "    \n",
    "    window = glfw.create_window(800, 600, \"My Window\", None, None)\n",
    "    \n",
    "    if not window:\n",
    "        glfw.terminate()\n",
    "        return\n",
    "    \n",
    "    glfw.make_context_current(window)\n",
    "    \n",
    "    triangle = [-0.5, -0.5, 0.0]\n",
    "    \n",
    "    glClearColor(0.2, 0.3, 0.2, 1.0)\n",
    "    \n",
    "    while not glfw.window_should_close(window):\n",
    "        glfw.poll_events()\n",
    "        \n",
    "        glClear(GL_COLOR_BUFFER_BIT)\n",
    "        glfw.swap_buffers(window)\n",
    "        \n",
    "    glfw.terminate()\n",
    "    \n",
    "if __name__ == \"__main__\":\n",
    "    main()"
   ]
  },
  {
   "cell_type": "markdown",
   "metadata": {},
   "source": [
    "Create a green screen"
   ]
  },
  {
   "cell_type": "code",
   "execution_count": null,
   "metadata": {},
   "outputs": [],
   "source": []
  },
  {
   "cell_type": "code",
   "execution_count": null,
   "metadata": {},
   "outputs": [],
   "source": []
  }
 ],
 "metadata": {
  "kernelspec": {
   "display_name": "Python 3",
   "language": "python",
   "name": "python3"
  },
  "language_info": {
   "codemirror_mode": {
    "name": "ipython",
    "version": 3
   },
   "file_extension": ".py",
   "mimetype": "text/x-python",
   "name": "python",
   "nbconvert_exporter": "python",
   "pygments_lexer": "ipython3",
   "version": "3.7.2"
  }
 },
 "nbformat": 4,
 "nbformat_minor": 2
}
