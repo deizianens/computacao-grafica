{
 "cells": [
  {
   "cell_type": "code",
   "execution_count": 4,
   "metadata": {},
   "outputs": [],
   "source": [
    "import glfw"
   ]
  },
  {
   "cell_type": "code",
   "execution_count": 17,
   "metadata": {},
   "outputs": [],
   "source": [
    "from OpenGL.GL import *"
   ]
  },
  {
   "cell_type": "code",
   "execution_count": 1,
   "metadata": {},
   "outputs": [],
   "source": [
    "import OpenGL.GL.shaders"
   ]
  },
  {
   "cell_type": "code",
   "execution_count": 18,
   "metadata": {},
   "outputs": [
    {
     "ename": "AttributeError",
     "evalue": "module 'OpenGL.GL' has no attribute 'shaders'",
     "output_type": "error",
     "traceback": [
      "\u001b[1;31m---------------------------------------------------------------------------\u001b[0m",
      "\u001b[1;31mAttributeError\u001b[0m                            Traceback (most recent call last)",
      "\u001b[1;32m<ipython-input-18-e6ecd006ffb4>\u001b[0m in \u001b[0;36m<module>\u001b[1;34m\u001b[0m\n\u001b[0;32m     51\u001b[0m \u001b[1;33m\u001b[0m\u001b[0m\n\u001b[0;32m     52\u001b[0m \u001b[1;32mif\u001b[0m \u001b[0m__name__\u001b[0m \u001b[1;33m==\u001b[0m \u001b[1;34m\"__main__\"\u001b[0m\u001b[1;33m:\u001b[0m\u001b[1;33m\u001b[0m\u001b[1;33m\u001b[0m\u001b[0m\n\u001b[1;32m---> 53\u001b[1;33m     \u001b[0mmain\u001b[0m\u001b[1;33m(\u001b[0m\u001b[1;33m)\u001b[0m\u001b[1;33m\u001b[0m\u001b[1;33m\u001b[0m\u001b[0m\n\u001b[0m",
      "\u001b[1;32m<ipython-input-18-e6ecd006ffb4>\u001b[0m in \u001b[0;36mmain\u001b[1;34m()\u001b[0m\n\u001b[0;32m     37\u001b[0m     \"\"\"\n\u001b[0;32m     38\u001b[0m \u001b[1;33m\u001b[0m\u001b[0m\n\u001b[1;32m---> 39\u001b[1;33m     shader = OpenGL.GL.shaders.compileProgram(OpenGL.GL.shaders.compileShader(vertex_shader, GL_VERTEX_SHADER), \n\u001b[0m\u001b[0;32m     40\u001b[0m                                              OpenGL.GL.shaders.compileShader(fragment_shader, GL_FRAGMENT_SHADER))\n\u001b[0;32m     41\u001b[0m \u001b[1;33m\u001b[0m\u001b[0m\n",
      "\u001b[1;31mAttributeError\u001b[0m: module 'OpenGL.GL' has no attribute 'shaders'"
     ]
    }
   ],
   "source": [
    "def main():\n",
    "    #init glfw\n",
    "    if not glfw.init():\n",
    "        return\n",
    "    \n",
    "    window = glfw.create_window(800, 600, \"My Window\", None, None)\n",
    "    \n",
    "    if not window:\n",
    "        glfw.terminate()\n",
    "        return\n",
    "    \n",
    "    glfw.make_context_current(window)\n",
    "    \n",
    "    # bottom r, bottom l, top \n",
    "    triangle = [-0.5, -0.5, 0.0,\n",
    "                0.5, -0.5, 0.0,\n",
    "                0.0, 0.5, 0.0]\n",
    "    \n",
    "    vertex_shader = \"\"\"\n",
    "    #version 330\n",
    "    in vec4 position; \n",
    "    \n",
    "    void main(){\n",
    "        gl_Position = position;\n",
    "    }\n",
    "    \n",
    "    \"\"\"\n",
    "    \n",
    "    fragment_shader = \"\"\"\n",
    "    #version 330\n",
    "    in vec4 position; \n",
    "    \n",
    "    void main(){\n",
    "        gl_FragColor = vec4(1.0f, 0.0f, 0.0f, 1.0f);\n",
    "    }\n",
    "    \n",
    "    \"\"\"\n",
    "    \n",
    "    shader = OpenGL.GL.shaders.compileProgram(OpenGL.GL.shaders.compileShader(vertex_shader, GL_VERTEX_SHADER), \n",
    "                                             OpenGL.GL.shaders.compileShader(fragment_shader, GL_FRAGMENT_SHADER))\n",
    "    \n",
    "    # Vertex buffer object\n",
    "    VBO = glGenBuffers(1)\n",
    "    glBindBuffer(GL_ARRAY_BUFFER, VBO)\n",
    "    glBufferData(GL_ARRAY_BUFFER, 36, triangle, GL_STATIC_DRAW)\n",
    "    \n",
    "    position = glGetAttribLocation(shader, \"position\")\n",
    "    \n",
    "    glClearColor(0.2, 0.8, 0.8, 1.0)\n",
    "    \n",
    "    while not glfw.window_should_close(window):\n",
    "        glfw.poll_events()\n",
    "        \n",
    "        glClear(GL_COLOR_BUFFER_BIT)\n",
    "        glfw.swap_buffers(window)\n",
    "        \n",
    "    glfw.terminate()\n",
    "    \n",
    "if __name__ == \"__main__\":\n",
    "    main()"
   ]
  },
  {
   "cell_type": "markdown",
   "metadata": {},
   "source": [
    "Create a green screen"
   ]
  },
  {
   "cell_type": "code",
   "execution_count": null,
   "metadata": {},
   "outputs": [],
   "source": []
  },
  {
   "cell_type": "code",
   "execution_count": null,
   "metadata": {},
   "outputs": [],
   "source": []
  }
 ],
 "metadata": {
  "kernelspec": {
   "display_name": "Python 3",
   "language": "python",
   "name": "python3"
  },
  "language_info": {
   "codemirror_mode": {
    "name": "ipython",
    "version": 3
   },
   "file_extension": ".py",
   "mimetype": "text/x-python",
   "name": "python",
   "nbconvert_exporter": "python",
   "pygments_lexer": "ipython3",
   "version": "3.7.2"
  }
 },
 "nbformat": 4,
 "nbformat_minor": 2
}
